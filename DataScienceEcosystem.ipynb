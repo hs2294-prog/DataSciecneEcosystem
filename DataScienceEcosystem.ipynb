{
  "nbformat": 4,
  "nbformat_minor": 0,
  "metadata": {
    "colab": {
      "provenance": []
    },
    "kernelspec": {
      "name": "python3",
      "display_name": "Python 3"
    },
    "language_info": {
      "name": "python"
    }
  },
  "cells": [
    {
      "cell_type": "markdown",
      "source": [
        "# Data Science Tools and Ecosystem"
      ],
      "metadata": {
        "id": "Z3HW0-V76u_C"
      }
    },
    {
      "cell_type": "markdown",
      "source": [],
      "metadata": {
        "id": "sP6D9ozo73ew"
      }
    },
    {
      "cell_type": "code",
      "source": [],
      "metadata": {
        "id": "D90zbyRZ8Gxx"
      },
      "execution_count": null,
      "outputs": []
    },
    {
      "cell_type": "markdown",
      "source": [
        "In this notebook, Data Science Tools and Ecosystems are summarized"
      ],
      "metadata": {
        "id": "l_o-zjKr66c8"
      }
    },
    {
      "cell_type": "markdown",
      "source": [
        "**Objectives:**\n",
        "\n",
        "- List popular languages for Data Science\n",
        "- List commonly used libraries in Data Science\n",
        "- Create a table of open-source Data Science tools\n",
        "- Show examples of evaluating arithmetic expressions in Python\n",
        "- Convert minutes to hours using Python"
      ],
      "metadata": {
        "id": "g-ce_uig-12u"
      }
    },
    {
      "cell_type": "markdown",
      "source": [
        "Some of the popular languages that Data Scientists use are :\n",
        "1. Phyton\n",
        "2. R\n",
        "3. SQL"
      ],
      "metadata": {
        "id": "AYQsm0Ge7MSs"
      }
    },
    {
      "cell_type": "markdown",
      "source": [
        "#####Some of the commonly used libraries by Data Scientist include:\n",
        "\n",
        "1. Pandas\n",
        "2. NumPy\n",
        "3. Matplotlib\n",
        "4. Scikit-learn"
      ],
      "metadata": {
        "id": "eukqjkDK8H21"
      }
    },
    {
      "cell_type": "markdown",
      "source": [
        "| Data Science Tools |\n",
        "|---|\n",
        "| Jupyter Notebook |\n",
        "| JupyterLab |\n",
        "| RStudio |"
      ],
      "metadata": {
        "id": "hA5I3hc_98wg"
      }
    },
    {
      "cell_type": "markdown",
      "source": [
        "### Below are a few examples of evaluating arithmetic expressions in Python."
      ],
      "metadata": {
        "id": "FqogV6TT-G2P"
      }
    },
    {
      "cell_type": "code",
      "source": [
        "# This is a simple arithmetic expression to multiply then add integers\n",
        "(3*4) + 5"
      ],
      "metadata": {
        "colab": {
          "base_uri": "https://localhost:8080/"
        },
        "id": "hB4tA4W--LWS",
        "outputId": "f4ea1b11-a0a7-481f-917c-2623e4262343"
      },
      "execution_count": 3,
      "outputs": [
        {
          "output_type": "execute_result",
          "data": {
            "text/plain": [
              "17"
            ]
          },
          "metadata": {},
          "execution_count": 3
        }
      ]
    },
    {
      "cell_type": "code",
      "source": [
        "# This will convert 200 minutes to hours by dividing by 60\n",
        "200 / 60"
      ],
      "metadata": {
        "colab": {
          "base_uri": "https://localhost:8080/"
        },
        "id": "b-pfYyr1-fSJ",
        "outputId": "e8af5b53-4720-4922-8acc-aabf3988c150"
      },
      "execution_count": 4,
      "outputs": [
        {
          "output_type": "execute_result",
          "data": {
            "text/plain": [
              "3.3333333333333335"
            ]
          },
          "metadata": {},
          "execution_count": 4
        }
      ]
    },
    {
      "cell_type": "markdown",
      "source": [
        "## Author\n",
        "Hyungju Seo"
      ],
      "metadata": {
        "id": "SnrPNTSf_RIx"
      }
    }
  ]
}